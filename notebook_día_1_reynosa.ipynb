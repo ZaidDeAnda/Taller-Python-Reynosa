{
  "nbformat": 4,
  "nbformat_minor": 0,
  "metadata": {
    "colab": {
      "name": "notebook día 1 reynosa.ipynb",
      "provenance": [],
      "collapsed_sections": [
        "E56N4zpBd3F0",
        "rH0Qe_2a5OW4"
      ],
      "toc_visible": true,
      "include_colab_link": true
    },
    "kernelspec": {
      "name": "python3",
      "display_name": "Python 3"
    }
  },
  "cells": [
    {
      "cell_type": "markdown",
      "metadata": {
        "id": "view-in-github",
        "colab_type": "text"
      },
      "source": [
        "<a href=\"https://colab.research.google.com/github/ZaidTheJedi/Taller-Python-Reynosa/blob/main/notebook_d%C3%ADa_1_reynosa.ipynb\" target=\"_parent\"><img src=\"https://colab.research.google.com/assets/colab-badge.svg\" alt=\"Open In Colab\"/></a>"
      ]
    },
    {
      "cell_type": "markdown",
      "metadata": {
        "id": "kn6FX_rtdhyA"
      },
      "source": [
        "# Introducción a Google Colab\n",
        "¡Bienvenid@ a Google Colab!\n",
        "Google Colab es un entorno basado en [Jupyter Notebook](https://jupyter.org)s alojado y servido en la nube por Google.\n",
        "\n",
        "Aquí podrás editar texto y código al mismo tiempo. Esto te permitirá intercactuar con tu código de manera más intuitiva con documentación dentro del mismo entorno de ejecución."
      ]
    },
    {
      "cell_type": "markdown",
      "metadata": {
        "id": "zG39Xvco16-I"
      },
      "source": [
        "##Zen de python\n",
        "Veamos cuál es la filosofía de código de python\n"
      ]
    },
    {
      "cell_type": "code",
      "metadata": {
        "id": "_VV49e1S2ARe"
      },
      "source": [
        "import this"
      ],
      "execution_count": null,
      "outputs": []
    },
    {
      "cell_type": "markdown",
      "metadata": {
        "id": "5OtDmKzw2DLW"
      },
      "source": [
        "Traten de que sus códigos sean respuestas _pythonezcas_ a sus problemas.\n",
        "\n",
        "Esto es, que sean una solución simple que sea legible para cualquiera que vea el código."
      ]
    },
    {
      "cell_type": "markdown",
      "metadata": {
        "id": "E56N4zpBd3F0"
      },
      "source": [
        "### Tipos de Celdas\n",
        "\n",
        "Existen dos tipos de celdas que puedes utilizar en Google Colab: de texto y de código."
      ]
    },
    {
      "cell_type": "markdown",
      "metadata": {
        "id": "Ws3uujJw4czs"
      },
      "source": [
        "### Celdas de Texto\n",
        "\n",
        "Dentro de estas celdas, podrás utilizar el editor de texto que se muestra en la celda y/o texto en formato [markdown](https://markdown.es/sintaxis-markdown/) para documentar tu código, escribir observaciones, explicaciones y/o reflexiones sobre el proyecto.\n",
        "\n"
      ]
    },
    {
      "cell_type": "markdown",
      "metadata": {
        "id": "o1ZGbtR44epB"
      },
      "source": [
        "### Celdas de Código\n",
        "\n",
        "Estas celdas, te permitirán escribir código en el lenguaje Python que podrás ejecutar de manera interactiva e iterativa. Es decir, podrás realizar ajustes al momento en tu código y correr nuevamente el bloque de código necesario."
      ]
    },
    {
      "cell_type": "code",
      "metadata": {
        "id": "xIaOXtnge5gW"
      },
      "source": [
        "print(\"Esta es una celda de código! 😃\")"
      ],
      "execution_count": null,
      "outputs": []
    },
    {
      "cell_type": "markdown",
      "metadata": {
        "id": "rH0Qe_2a5OW4"
      },
      "source": [
        "## Programa de Ejemplo\n",
        "A continuación, realizaremos dos versiones del clásico programa de inicio, \"¡Hola, mundo!\", una básica y una un poco más interesante:"
      ]
    },
    {
      "cell_type": "code",
      "metadata": {
        "id": "6uJLJHYT5eJq"
      },
      "source": [
        "# Primera versión del \"¡Hola, mundo!\"\n",
        "print(\"¡Hola, mundo! 🌎\")"
      ],
      "execution_count": null,
      "outputs": []
    },
    {
      "cell_type": "code",
      "metadata": {
        "id": "le4BLKWD5uAt"
      },
      "source": [
        "# Segunda versión del \"¡Hola, mundo!\"\n",
        "nombre = input(\"¿Cómo te llamas?: \")\n",
        "print(\"¡Hola, \" + nombre + \"! 👋\")"
      ],
      "execution_count": null,
      "outputs": []
    },
    {
      "cell_type": "markdown",
      "metadata": {
        "id": "DxZXMLdUimTz"
      },
      "source": [
        "## ¡Cosas interesantes!\n",
        "A continuación, te planteamos unos retos para que realices durante tus ratos libres.\n",
        "* Si te gustan los perros, averigua cómo activar el **modo corgi**. 🐕\n",
        "* Si por otro lado, prefieres los gatos, intenta activar el **modo gatito**. 🐱\n",
        "* Si quieres ser un super programador de Python, intenta encontrar el **modo de poder**. 🔥\n",
        "\n",
        "## Lectura Recomendada\n",
        "A continuación, encontrarás _links_ a sitios con información para expandir tu conocimiento sobre los temas presentados.\n",
        "* Sitio web del [Jupyter Notebook](https://jupyter.org/).\n",
        "* Sitio web de [Python](https://www.python.org/)."
      ]
    },
    {
      "cell_type": "markdown",
      "metadata": {
        "id": "rkH8N3PR9ZOf"
      },
      "source": [
        "# Variables\n"
      ]
    },
    {
      "cell_type": "markdown",
      "metadata": {
        "id": "XsK6Mwy1pEOB"
      },
      "source": [
        "## Tipos de datos elementales"
      ]
    },
    {
      "cell_type": "markdown",
      "metadata": {
        "id": "umEbmd0hpLhX"
      },
      "source": [
        "### Números enteros"
      ]
    },
    {
      "cell_type": "code",
      "metadata": {
        "id": "1pXSxDg-Sp_O"
      },
      "source": [
        "a = 4"
      ],
      "execution_count": null,
      "outputs": []
    },
    {
      "cell_type": "code",
      "metadata": {
        "id": "aA2YNr4C-AXB",
        "colab": {
          "base_uri": "https://localhost:8080/",
          "height": 34
        },
        "outputId": "e81e427e-3a55-4147-ee70-da4b0735bab3"
      },
      "source": [
        "print(a)"
      ],
      "execution_count": null,
      "outputs": [
        {
          "output_type": "stream",
          "text": [
            "4\n"
          ],
          "name": "stdout"
        }
      ]
    },
    {
      "cell_type": "code",
      "metadata": {
        "id": "89M69Kk8-ayQ",
        "colab": {
          "base_uri": "https://localhost:8080/",
          "height": 34
        },
        "outputId": "4acb6b98-1aee-41ee-8272-c02cdd89722a"
      },
      "source": [
        "type(a)"
      ],
      "execution_count": null,
      "outputs": [
        {
          "output_type": "execute_result",
          "data": {
            "text/plain": [
              "int"
            ]
          },
          "metadata": {
            "tags": []
          },
          "execution_count": 4
        }
      ]
    },
    {
      "cell_type": "code",
      "metadata": {
        "id": "l51Vk-ZN-jm1"
      },
      "source": [
        "numero_entero = 4"
      ],
      "execution_count": null,
      "outputs": []
    },
    {
      "cell_type": "markdown",
      "metadata": {
        "id": "KkBglOfMpuFW"
      },
      "source": [
        "### Números de punto flotante"
      ]
    },
    {
      "cell_type": "code",
      "metadata": {
        "id": "I5h_JVJdwNN_",
        "colab": {
          "base_uri": "https://localhost:8080/",
          "height": 34
        },
        "outputId": "aefaf359-478c-4e5a-b3d5-495e4457202e"
      },
      "source": [
        "b = 1.23\n",
        "\n",
        "print(b, type(b))"
      ],
      "execution_count": null,
      "outputs": [
        {
          "output_type": "stream",
          "text": [
            "1.23 <class 'float'>\n"
          ],
          "name": "stdout"
        }
      ]
    },
    {
      "cell_type": "markdown",
      "metadata": {
        "id": "4zlCdidAp3pv"
      },
      "source": [
        "### Cadenas de texto"
      ]
    },
    {
      "cell_type": "code",
      "metadata": {
        "id": "DtM27qYWTezt",
        "colab": {
          "base_uri": "https://localhost:8080/",
          "height": 34
        },
        "outputId": "cfc18ad2-ad5a-45bb-dd46-9033e237b834"
      },
      "source": [
        "texto1 = \"Hola, \"\n",
        "texto2 = ' como estas?'\n",
        "\n",
        "print(texto1, texto2)"
      ],
      "execution_count": null,
      "outputs": [
        {
          "output_type": "stream",
          "text": [
            "Hola,   como estas?\n"
          ],
          "name": "stdout"
        }
      ]
    },
    {
      "cell_type": "code",
      "metadata": {
        "id": "Rc0wI2Mf_SQd",
        "colab": {
          "base_uri": "https://localhost:8080/",
          "height": 34
        },
        "outputId": "6590fb91-c5a5-4006-af0a-246146747615"
      },
      "source": [
        "print(type(texto1))"
      ],
      "execution_count": null,
      "outputs": [
        {
          "output_type": "stream",
          "text": [
            "<class 'str'>\n"
          ],
          "name": "stdout"
        }
      ]
    },
    {
      "cell_type": "code",
      "metadata": {
        "id": "ZysgGt8r_ZZh",
        "colab": {
          "base_uri": "https://localhost:8080/",
          "height": 34
        },
        "outputId": "486c437d-5d5e-44d5-c71e-f6b977fd691a"
      },
      "source": [
        "cadena = \"el leguaje 'python' rifa\"\n",
        "print(cadena)"
      ],
      "execution_count": null,
      "outputs": [
        {
          "output_type": "stream",
          "text": [
            "el leguaje 'python' rifa\n"
          ],
          "name": "stdout"
        }
      ]
    },
    {
      "cell_type": "code",
      "metadata": {
        "id": "pxc9HCOh_nXO",
        "colab": {
          "base_uri": "https://localhost:8080/",
          "height": 132
        },
        "outputId": "467d3f47-0258-449f-8433-c3bd57a001d7"
      },
      "source": [
        "cadena = \"el lenguaje \"python\" rifa\""
      ],
      "execution_count": null,
      "outputs": [
        {
          "output_type": "error",
          "ename": "SyntaxError",
          "evalue": "ignored",
          "traceback": [
            "\u001b[0;36m  File \u001b[0;32m\"<ipython-input-12-5fb86d5981a4>\"\u001b[0;36m, line \u001b[0;32m1\u001b[0m\n\u001b[0;31m    cadena = \"el lenguaje \"python\" rifa\"\u001b[0m\n\u001b[0m                                ^\u001b[0m\n\u001b[0;31mSyntaxError\u001b[0m\u001b[0;31m:\u001b[0m invalid syntax\n"
          ]
        }
      ]
    },
    {
      "cell_type": "markdown",
      "metadata": {
        "id": "Uh6hqgmQqDO_"
      },
      "source": [
        "### Booleanos\n",
        "\n",
        "True / False"
      ]
    },
    {
      "cell_type": "code",
      "metadata": {
        "id": "d0e1p_rjwSmK",
        "colab": {
          "base_uri": "https://localhost:8080/",
          "height": 34
        },
        "outputId": "3ea249f4-86f1-4b10-846f-5864dd2e8673"
      },
      "source": [
        "cierto = True\n",
        "flaso = False\n",
        "\n",
        "print(cierto, type(cierto))"
      ],
      "execution_count": null,
      "outputs": [
        {
          "output_type": "stream",
          "text": [
            "True <class 'bool'>\n"
          ],
          "name": "stdout"
        }
      ]
    },
    {
      "cell_type": "code",
      "metadata": {
        "id": "aN3WrLa9APAN",
        "colab": {
          "base_uri": "https://localhost:8080/",
          "height": 132
        },
        "outputId": "0f1ad13e-4db5-4072-e55d-7aec5b41c243"
      },
      "source": [
        "True = \"estoy no va a funcionar\""
      ],
      "execution_count": null,
      "outputs": [
        {
          "output_type": "error",
          "ename": "SyntaxError",
          "evalue": "ignored",
          "traceback": [
            "\u001b[0;36m  File \u001b[0;32m\"<ipython-input-2-bf4395e1fa9b>\"\u001b[0;36m, line \u001b[0;32m1\u001b[0m\n\u001b[0;31m    True = \"estoy no va a funcionar\"\u001b[0m\n\u001b[0m                                    ^\u001b[0m\n\u001b[0;31mSyntaxError\u001b[0m\u001b[0;31m:\u001b[0m can't assign to keyword\n"
          ]
        }
      ]
    },
    {
      "cell_type": "code",
      "metadata": {
        "id": "PqOpXl-MAYQn"
      },
      "source": [
        ""
      ],
      "execution_count": null,
      "outputs": []
    },
    {
      "cell_type": "markdown",
      "metadata": {
        "id": "Q8MO48r3qKae"
      },
      "source": [
        "### Números complejos\n",
        "\n",
        "$z = a+ib$"
      ]
    },
    {
      "cell_type": "code",
      "metadata": {
        "id": "qtHoNjDlUrT4",
        "colab": {
          "base_uri": "https://localhost:8080/",
          "height": 34
        },
        "outputId": "ebcf0ec8-1ca9-47fe-e9cc-999fa8963dd4"
      },
      "source": [
        "z = complex(15, 4)\n",
        "\n",
        "print(z, type(z))"
      ],
      "execution_count": null,
      "outputs": [
        {
          "output_type": "stream",
          "text": [
            "(15+4j) <class 'complex'>\n"
          ],
          "name": "stdout"
        }
      ]
    },
    {
      "cell_type": "markdown",
      "metadata": {
        "id": "Z2_GAZmNpjHj"
      },
      "source": [
        "## Operaciones elementales."
      ]
    },
    {
      "cell_type": "markdown",
      "metadata": {
        "id": "reJ8bzPQqRuh"
      },
      "source": [
        "### Aritméticas"
      ]
    },
    {
      "cell_type": "code",
      "metadata": {
        "id": "ot-354TfFXO_",
        "colab": {
          "base_uri": "https://localhost:8080/",
          "height": 34
        },
        "outputId": "6b67ddf0-efff-4b26-e8b0-5a1ca12db6b6"
      },
      "source": [
        "a = 2\n",
        "b = 1.24\n",
        "\n",
        "suma = a + b\n",
        "\n",
        "print(suma, type(suma))"
      ],
      "execution_count": null,
      "outputs": [
        {
          "output_type": "stream",
          "text": [
            "3.24 <class 'float'>\n"
          ],
          "name": "stdout"
        }
      ]
    },
    {
      "cell_type": "code",
      "metadata": {
        "id": "l5UKfgtpF_2h",
        "colab": {
          "base_uri": "https://localhost:8080/",
          "height": 202
        },
        "outputId": "f57ef509-a656-4c8a-e20d-55189240d5be"
      },
      "source": [
        "a = 5\n",
        "texto = \"noooo\"\n",
        "\n",
        "suma = a + texto"
      ],
      "execution_count": null,
      "outputs": [
        {
          "output_type": "error",
          "ename": "TypeError",
          "evalue": "ignored",
          "traceback": [
            "\u001b[0;31m---------------------------------------------------------------------------\u001b[0m",
            "\u001b[0;31mTypeError\u001b[0m                                 Traceback (most recent call last)",
            "\u001b[0;32m<ipython-input-6-92e2ed706a71>\u001b[0m in \u001b[0;36m<module>\u001b[0;34m()\u001b[0m\n\u001b[1;32m      2\u001b[0m \u001b[0mtexto\u001b[0m \u001b[0;34m=\u001b[0m \u001b[0;34m\"noooo\"\u001b[0m\u001b[0;34m\u001b[0m\u001b[0;34m\u001b[0m\u001b[0m\n\u001b[1;32m      3\u001b[0m \u001b[0;34m\u001b[0m\u001b[0m\n\u001b[0;32m----> 4\u001b[0;31m \u001b[0msuma\u001b[0m \u001b[0;34m=\u001b[0m \u001b[0ma\u001b[0m \u001b[0;34m+\u001b[0m \u001b[0mtexto\u001b[0m\u001b[0;34m\u001b[0m\u001b[0;34m\u001b[0m\u001b[0m\n\u001b[0m",
            "\u001b[0;31mTypeError\u001b[0m: unsupported operand type(s) for +: 'int' and 'str'"
          ]
        }
      ]
    },
    {
      "cell_type": "code",
      "metadata": {
        "id": "eqyKCI6LGLVK",
        "colab": {
          "base_uri": "https://localhost:8080/",
          "height": 34
        },
        "outputId": "0ac65122-b6bb-41ce-a078-b93b2f68a807"
      },
      "source": [
        "texto1 = \"Hasta la vista, \"\n",
        "texto2 = \"Baby\"\n",
        "\n",
        "suma = texto1 + texto2\n",
        "\n",
        "print(suma)"
      ],
      "execution_count": null,
      "outputs": [
        {
          "output_type": "stream",
          "text": [
            "Hasta la vista, Baby\n"
          ],
          "name": "stdout"
        }
      ]
    },
    {
      "cell_type": "code",
      "metadata": {
        "id": "Qk3fL4F8GfRd",
        "colab": {
          "base_uri": "https://localhost:8080/",
          "height": 87
        },
        "outputId": "3e3326f9-bcaf-49df-919c-d75703a1588a"
      },
      "source": [
        "a = 5\n",
        "b = 2\n",
        "\n",
        "print(\"Resta: \", a-b)\n",
        "print(\"multiplicacion\", a*b)\n",
        "print(\"Dividir: \", a/b)\n",
        "print(\"Potencia: \", a**b)"
      ],
      "execution_count": null,
      "outputs": [
        {
          "output_type": "stream",
          "text": [
            "Resta:  3\n",
            "multiplicacion 10\n",
            "Dividir:  2.5\n",
            "Potencia:  25\n"
          ],
          "name": "stdout"
        }
      ]
    },
    {
      "cell_type": "code",
      "metadata": {
        "id": "INkzE8KIHBDe",
        "colab": {
          "base_uri": "https://localhost:8080/",
          "height": 34
        },
        "outputId": "46d2e079-38d8-48e3-e1d9-b62b395b6c6c"
      },
      "source": [
        "# modulo\n",
        "\n",
        "a = 11\n",
        "b = 4\n",
        "\n",
        "print(\"Modulo: \", a%b)"
      ],
      "execution_count": null,
      "outputs": [
        {
          "output_type": "stream",
          "text": [
            "Modulo:  3\n"
          ],
          "name": "stdout"
        }
      ]
    },
    {
      "cell_type": "code",
      "metadata": {
        "id": "8Mqvu2M-Hcbt",
        "colab": {
          "base_uri": "https://localhost:8080/",
          "height": 34
        },
        "outputId": "1a01cda5-cd7a-41c6-9a5c-97b80f850ed1"
      },
      "source": [
        "# Divicion entera\n",
        "print(\"Entera: \", a//b)"
      ],
      "execution_count": null,
      "outputs": [
        {
          "output_type": "stream",
          "text": [
            "Entera:  2\n"
          ],
          "name": "stdout"
        }
      ]
    },
    {
      "cell_type": "code",
      "metadata": {
        "id": "qIuHYwZxHnxv",
        "colab": {
          "base_uri": "https://localhost:8080/",
          "height": 34
        },
        "outputId": "0e7735cd-595c-4457-d3f8-9065c8cd055d"
      },
      "source": [
        "numero = ((5/2)*7 + 2**3 - 1 + 7//2)/3\n",
        "print(numero)"
      ],
      "execution_count": null,
      "outputs": [
        {
          "output_type": "stream",
          "text": [
            "9.166666666666666\n"
          ],
          "name": "stdout"
        }
      ]
    },
    {
      "cell_type": "code",
      "metadata": {
        "id": "CpXj5J33IDrn",
        "colab": {
          "base_uri": "https://localhost:8080/",
          "height": 34
        },
        "outputId": "50ed5569-c0ef-42d1-d02a-f1a3dd2894cb"
      },
      "source": [
        "numero = 1 - 0.8 - 0.2\n",
        "\n",
        "print(numero)"
      ],
      "execution_count": null,
      "outputs": [
        {
          "output_type": "stream",
          "text": [
            "-5.551115123125783e-17\n"
          ],
          "name": "stdout"
        }
      ]
    },
    {
      "cell_type": "code",
      "metadata": {
        "id": "wkbOXeljPJma",
        "colab": {
          "base_uri": "https://localhost:8080/",
          "height": 34
        },
        "outputId": "28e27ebd-ed66-44ab-ca71-f0d7051fccbf"
      },
      "source": [
        "a = 5\n",
        "\n",
        "a *= 2\n",
        "print(a)"
      ],
      "execution_count": null,
      "outputs": [
        {
          "output_type": "stream",
          "text": [
            "10\n"
          ],
          "name": "stdout"
        }
      ]
    },
    {
      "cell_type": "code",
      "metadata": {
        "id": "BoeR2WW-PU4T",
        "colab": {
          "base_uri": "https://localhost:8080/",
          "height": 386
        },
        "outputId": "15368f7d-2e64-40a1-e92a-a02a99203f2d"
      },
      "source": [
        "texto = \"Oye \\n\"\n",
        "\n",
        "molestar = texto *20\n",
        "\n",
        "print(molestar)"
      ],
      "execution_count": null,
      "outputs": [
        {
          "output_type": "stream",
          "text": [
            "Oye \n",
            "Oye \n",
            "Oye \n",
            "Oye \n",
            "Oye \n",
            "Oye \n",
            "Oye \n",
            "Oye \n",
            "Oye \n",
            "Oye \n",
            "Oye \n",
            "Oye \n",
            "Oye \n",
            "Oye \n",
            "Oye \n",
            "Oye \n",
            "Oye \n",
            "Oye \n",
            "Oye \n",
            "Oye \n",
            "\n"
          ],
          "name": "stdout"
        }
      ]
    },
    {
      "cell_type": "markdown",
      "metadata": {
        "id": "pdE3F9WGqVgG"
      },
      "source": [
        "### Lógicas"
      ]
    },
    {
      "cell_type": "markdown",
      "metadata": {
        "id": "5eqhI4sfqZEQ"
      },
      "source": [
        "<, >, ==, !=, <=, >="
      ]
    },
    {
      "cell_type": "code",
      "metadata": {
        "id": "aPB2X4i6wd_k",
        "colab": {
          "base_uri": "https://localhost:8080/",
          "height": 34
        },
        "outputId": "72f45bc8-723c-4c9e-d5a4-a457c031ec7a"
      },
      "source": [
        "print( 5 <= 5)"
      ],
      "execution_count": null,
      "outputs": [
        {
          "output_type": "stream",
          "text": [
            "True\n"
          ],
          "name": "stdout"
        }
      ]
    },
    {
      "cell_type": "code",
      "metadata": {
        "id": "zqhNv-edIqFz",
        "colab": {
          "base_uri": "https://localhost:8080/",
          "height": 34
        },
        "outputId": "0ab2c9a0-c985-4acf-95b1-19592c8478ca"
      },
      "source": [
        "print ( 5 > 4)"
      ],
      "execution_count": null,
      "outputs": [
        {
          "output_type": "stream",
          "text": [
            "True\n"
          ],
          "name": "stdout"
        }
      ]
    },
    {
      "cell_type": "code",
      "metadata": {
        "id": "LPMPpslQIs-D",
        "colab": {
          "base_uri": "https://localhost:8080/",
          "height": 34
        },
        "outputId": "c8703bbd-f56f-45ce-8588-5417c521b03a"
      },
      "source": [
        "print( 5 == 5)"
      ],
      "execution_count": null,
      "outputs": [
        {
          "output_type": "stream",
          "text": [
            "True\n"
          ],
          "name": "stdout"
        }
      ]
    },
    {
      "cell_type": "code",
      "metadata": {
        "id": "E88QycRrI7Lw",
        "colab": {
          "base_uri": "https://localhost:8080/",
          "height": 34
        },
        "outputId": "2f1218b1-1c91-4255-bccb-261a157a23fd"
      },
      "source": [
        "texto = \"hola\"\n",
        "texto2 = \"hola jejeje\"\n",
        "\n",
        "print ( texto == texto2)"
      ],
      "execution_count": null,
      "outputs": [
        {
          "output_type": "stream",
          "text": [
            "False\n"
          ],
          "name": "stdout"
        }
      ]
    },
    {
      "cell_type": "code",
      "metadata": {
        "id": "T_VYeCBsJING",
        "colab": {
          "base_uri": "https://localhost:8080/",
          "height": 34
        },
        "outputId": "20e0e876-92fc-4630-ef41-e9ed0fd916b4"
      },
      "source": [
        "print( texto != texto2)"
      ],
      "execution_count": null,
      "outputs": [
        {
          "output_type": "stream",
          "text": [
            "True\n"
          ],
          "name": "stdout"
        }
      ]
    },
    {
      "cell_type": "code",
      "metadata": {
        "id": "5Ec6mn7yJoEy",
        "colab": {
          "base_uri": "https://localhost:8080/",
          "height": 52
        },
        "outputId": "2e16ced0-5af2-458f-a6b5-d70e7837f635"
      },
      "source": [
        "print (True == 1)\n",
        "print(False == 0)"
      ],
      "execution_count": null,
      "outputs": [
        {
          "output_type": "stream",
          "text": [
            "True\n",
            "False\n"
          ],
          "name": "stdout"
        }
      ]
    },
    {
      "cell_type": "markdown",
      "metadata": {
        "id": "jUTFTXS7qaBe"
      },
      "source": [
        "### Casting"
      ]
    },
    {
      "cell_type": "code",
      "metadata": {
        "id": "QJ5j-tNePqie",
        "colab": {
          "base_uri": "https://localhost:8080/",
          "height": 34
        },
        "outputId": "328de346-ec9b-4cd2-b7fc-31fdad4ffc52"
      },
      "source": [
        "a = 20\n",
        "b = \"12\"\n",
        "\n",
        "b = int(b)\n",
        "\n",
        "sumar = a + b\n",
        "\n",
        "print(sumar)"
      ],
      "execution_count": null,
      "outputs": [
        {
          "output_type": "stream",
          "text": [
            "32\n"
          ],
          "name": "stdout"
        }
      ]
    },
    {
      "cell_type": "code",
      "metadata": {
        "id": "1UGuvlBoQECb",
        "colab": {
          "base_uri": "https://localhost:8080/",
          "height": 34
        },
        "outputId": "acc8d39d-020d-49bd-8a6f-45e423fe722d"
      },
      "source": [
        "decimal = 3.1416\n",
        "\n",
        "entera = int(decimal)\n",
        "\n",
        "print(entera)"
      ],
      "execution_count": null,
      "outputs": [
        {
          "output_type": "stream",
          "text": [
            "3\n"
          ],
          "name": "stdout"
        }
      ]
    },
    {
      "cell_type": "code",
      "metadata": {
        "id": "59-bVYvHQM65",
        "colab": {
          "base_uri": "https://localhost:8080/",
          "height": 34
        },
        "outputId": "d52474fe-e984-4125-fd3a-a31b9656ee85"
      },
      "source": [
        "frase = \"Mi edad es \"\n",
        "edad = 12\n",
        "\n",
        "frase_completa = frase + str(edad)\n",
        "\n",
        "print(frase_completa)"
      ],
      "execution_count": null,
      "outputs": [
        {
          "output_type": "stream",
          "text": [
            "Mi edad es 12\n"
          ],
          "name": "stdout"
        }
      ]
    },
    {
      "cell_type": "code",
      "metadata": {
        "id": "drpbuZmcQoTa",
        "colab": {
          "base_uri": "https://localhost:8080/",
          "height": 202
        },
        "outputId": "4c13026e-c275-42cd-ca6a-28481e64381f"
      },
      "source": [
        "texto = \"esto es ilegal\"\n",
        "\n",
        "print(int(texto))"
      ],
      "execution_count": null,
      "outputs": [
        {
          "output_type": "error",
          "ename": "ValueError",
          "evalue": "ignored",
          "traceback": [
            "\u001b[0;31m---------------------------------------------------------------------------\u001b[0m",
            "\u001b[0;31mValueError\u001b[0m                                Traceback (most recent call last)",
            "\u001b[0;32m<ipython-input-50-25fd2fc9bcd1>\u001b[0m in \u001b[0;36m<module>\u001b[0;34m()\u001b[0m\n\u001b[1;32m      1\u001b[0m \u001b[0mtexto\u001b[0m \u001b[0;34m=\u001b[0m \u001b[0;34m\"esto es ilegal\"\u001b[0m\u001b[0;34m\u001b[0m\u001b[0;34m\u001b[0m\u001b[0m\n\u001b[1;32m      2\u001b[0m \u001b[0;34m\u001b[0m\u001b[0m\n\u001b[0;32m----> 3\u001b[0;31m \u001b[0mprint\u001b[0m\u001b[0;34m(\u001b[0m\u001b[0mint\u001b[0m\u001b[0;34m(\u001b[0m\u001b[0mtexto\u001b[0m\u001b[0;34m)\u001b[0m\u001b[0;34m)\u001b[0m\u001b[0;34m\u001b[0m\u001b[0;34m\u001b[0m\u001b[0m\n\u001b[0m",
            "\u001b[0;31mValueError\u001b[0m: invalid literal for int() with base 10: 'esto es ilegal'"
          ]
        }
      ]
    },
    {
      "cell_type": "code",
      "metadata": {
        "id": "xurhjdiFQvk2",
        "colab": {
          "base_uri": "https://localhost:8080/",
          "height": 34
        },
        "outputId": "0c6295ff-ac70-4737-f8d5-d22b96d97ad3"
      },
      "source": [
        "entero = 5\n",
        "\n",
        "print(float(entero))"
      ],
      "execution_count": null,
      "outputs": [
        {
          "output_type": "stream",
          "text": [
            "5.0\n"
          ],
          "name": "stdout"
        }
      ]
    }
  ]
}