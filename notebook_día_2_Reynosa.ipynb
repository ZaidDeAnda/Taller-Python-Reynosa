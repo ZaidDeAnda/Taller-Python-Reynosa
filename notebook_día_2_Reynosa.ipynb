{
  "nbformat": 4,
  "nbformat_minor": 0,
  "metadata": {
    "colab": {
      "name": "notebook día 2 Reynosa.ipynb",
      "provenance": [],
      "authorship_tag": "ABX9TyP+90ItObLobtl1HARdOaG2",
      "include_colab_link": true
    },
    "kernelspec": {
      "name": "python3",
      "display_name": "Python 3"
    }
  },
  "cells": [
    {
      "cell_type": "markdown",
      "metadata": {
        "id": "view-in-github",
        "colab_type": "text"
      },
      "source": [
        "<a href=\"https://colab.research.google.com/github/ZaidTheJedi/Taller-Python-Reynosa/blob/main/notebook_d%C3%ADa_2_Reynosa.ipynb\" target=\"_parent\"><img src=\"https://colab.research.google.com/assets/colab-badge.svg\" alt=\"Open In Colab\"/></a>"
      ]
    },
    {
      "cell_type": "markdown",
      "metadata": {
        "id": "VgGXxkIq7bdJ"
      },
      "source": [
        "# Colecciones de datos"
      ]
    },
    {
      "cell_type": "markdown",
      "metadata": {
        "id": "GS61TG41Tlo9"
      },
      "source": [
        "## Listas\n",
        "- Las listas son secuencias ordenadas que pueden almacenar distintos tipos de objetos.\n",
        "- En pocas palabras, es como una variable que puede almacenar muchas cosas wuuu.\n",
        "- Se usan **[ ]** para indicar que es una lista y los objetos de la lista se separan por comas.\n",
        "- Se les puede hacer **indexing** y **slicing**.\n",
        "- Tienen **métodos** bastante útiles.\n"
      ]
    },
    {
      "cell_type": "code",
      "metadata": {
        "id": "Dv2P0hT-Tgor"
      },
      "source": [
        "# Ejemplos de listas:\n",
        "# Lista de números enteros\n",
        "enteros = \n",
        "print(enteros)\n",
        "# Lista de números flotantes\n",
        "flotantes = \n",
        "print(flotantes)\n",
        "# Lista de strings\n",
        "nombres = \n",
        "print(nombres)\n",
        "# Lista mixta\n",
        "mixta = \n",
        "print(mixta)"
      ],
      "execution_count": null,
      "outputs": []
    },
    {
      "cell_type": "markdown",
      "metadata": {
        "id": "BvtHQJaZauUa"
      },
      "source": [
        "### Indexing y Slicing"
      ]
    },
    {
      "cell_type": "code",
      "metadata": {
        "id": "mmHtT3eRaqAg"
      },
      "source": [
        "# Indexing\n",
        "lista_random = []\n",
        "# Imprimimos el primer elemento\n",
        "print()\n",
        "# También lo podemos guardar en otra variable si es necesario\n",
        "primer_elemento =\n",
        "print(primer_elemento)\n",
        "# Podemos modificar las listas con esto:\n",
        "lista_random[4] ="
      ],
      "execution_count": null,
      "outputs": []
    },
    {
      "cell_type": "code",
      "metadata": {
        "id": "v4_sIBxSfxXz"
      },
      "source": [
        "# Slicing\n",
        "# Imprimir los primeros dos números\n",
        "print()\n",
        "# Guardar en una variable\n",
        "otra_lista =\n",
        "# Podemos agarrar solo los índices pares\n",
        "numeros = [1,2,3,4,5,6,7,8,9,10]\n",
        "impares =\n",
        "print(impares)\n",
        "# O voltearlos\n",
        "voltiao = \n",
        "print(voltiao)"
      ],
      "execution_count": null,
      "outputs": []
    },
    {
      "cell_type": "code",
      "metadata": {
        "id": "9fYx14chhD0F"
      },
      "source": [
        "# Podemos sumar listas en Python (Concatenación)\n",
        "lista1 = \n",
        "lista2 = \n",
        "lista3 =\n",
        "print(lista)"
      ],
      "execution_count": null,
      "outputs": []
    },
    {
      "cell_type": "markdown",
      "metadata": {
        "id": "S87MaFKGa-La"
      },
      "source": [
        "### Algunas funciones y métodos útiles."
      ]
    },
    {
      "cell_type": "code",
      "metadata": {
        "id": "8T2LUBORbB0U"
      },
      "source": [
        "# len()\n",
        "bubu_lista = \n",
        "# Muchas veces vamos a necesitar el tamaño de nuestra lista, eso se hace con len()\n",
        "n =\n",
        "print(n)"
      ],
      "execution_count": null,
      "outputs": []
    },
    {
      "cell_type": "code",
      "metadata": {
        "id": "rE1lcwRXiUOp"
      },
      "source": [
        "# sum()\n",
        "bubu_numeros = \n",
        "# Si queremos obtener la suma de todos los elementos de la lista usamos sum()\n",
        "suma = \n",
        "print(suma)"
      ],
      "execution_count": null,
      "outputs": []
    },
    {
      "cell_type": "code",
      "metadata": {
        "id": "OlJ7AaI8iuPZ"
      },
      "source": [
        "# Esto es un error, no se pueden sumar las cadenas con esta función.\n",
        "new_list = [\"Hola\", 2]\n",
        "sum(new_list)"
      ],
      "execution_count": null,
      "outputs": []
    },
    {
      "cell_type": "markdown",
      "metadata": {
        "id": "IbA_fzszkMBK"
      },
      "source": [
        "### Agregar elementos a una lista."
      ]
    },
    {
      "cell_type": "code",
      "metadata": {
        "id": "akBzljJBix7k"
      },
      "source": [
        "lista = [\"CdC\", 2, 3.3, \"Hola\", \"Bubu\", 5, \"Laura\"]\n",
        "# Append\n",
        "# Insert"
      ],
      "execution_count": null,
      "outputs": []
    },
    {
      "cell_type": "markdown",
      "metadata": {
        "id": "b2nw_liXlnmC"
      },
      "source": [
        "### Eliminando cosas de una lista"
      ]
    },
    {
      "cell_type": "code",
      "metadata": {
        "id": "g4kblfNJlmi0"
      },
      "source": [
        "# Pop\n",
        "lista.pop()\n",
        "print(lista)\n",
        "# Podemos guardar lo que pop nos regresa\n",
        "item_eliminado = lista.pop()\n",
        "print(item_eliminado)\n",
        "print(lista)\n",
        "# Podemos específicar la posición del popeo\n",
        "lista.pop(1)"
      ],
      "execution_count": null,
      "outputs": []
    },
    {
      "cell_type": "markdown",
      "metadata": {
        "id": "_Hsw6NtZmmBq"
      },
      "source": [
        "### Ordenar cosas"
      ]
    },
    {
      "cell_type": "code",
      "metadata": {
        "id": "kFi-biA_mjPF"
      },
      "source": [
        "numeros = [1, 5, 2, 9, 10, 8, 5]\n",
        "letras = ['x', 'a', 'b', 'y', 'u']\n",
        "# sort() NO REGRESA NADA"
      ],
      "execution_count": null,
      "outputs": []
    },
    {
      "cell_type": "markdown",
      "metadata": {
        "id": "YeAAGWNIoviK"
      },
      "source": [
        "## Tuplas\n",
        "- Las tuplas son parecidas a las listas. \n",
        "- Se diferencían en que las tuplas son inmutables. Es decir, una vez que un elemento está dentro de una tupla, no puede ser reasignada.\n",
        "- Usan paréntesis **()**"
      ]
    },
    {
      "cell_type": "code",
      "metadata": {
        "id": "JRIDplrmouRD"
      },
      "source": [
        "# Ejemplo\n",
        "tupla = (1,2,3,4,5)\n",
        "lista = [1,2,3,4,5]\n",
        "# Las listas sí se pueden modificar\n",
        "lista[] = \n",
        "print(lista)\n",
        "# Pero las tuplas no\n",
        "tupla[] ="
      ],
      "execution_count": null,
      "outputs": []
    },
    {
      "cell_type": "code",
      "metadata": {
        "id": "K5gdLmiO8Vlv"
      },
      "source": [
        "# Aún así, podemos hacer indexing o slicing\n",
        "print(tupla[-1])\n",
        "print(tupla[::2])\n",
        "# Y realmente todo lo que hacen con listas se puede hacer con tuplas"
      ],
      "execution_count": null,
      "outputs": []
    },
    {
      "cell_type": "markdown",
      "metadata": {
        "id": "nFF-_vRw8882"
      },
      "source": [
        "### Count() e Index()"
      ]
    },
    {
      "cell_type": "code",
      "metadata": {
        "id": "6OVxY8zt8BYg"
      },
      "source": [
        "t = ('Bubu', 'Laura', 'Missa', 'Bubu')\n",
        "# .count()\n",
        "# .index"
      ],
      "execution_count": null,
      "outputs": []
    },
    {
      "cell_type": "markdown",
      "metadata": {
        "id": "bEs3TFPVJfWT"
      },
      "source": [
        "## Diccionarios"
      ]
    },
    {
      "cell_type": "code",
      "metadata": {
        "id": "v6SJFasP9MKV",
        "colab": {
          "base_uri": "https://localhost:8080/",
          "height": 52
        },
        "outputId": "9abbf65d-5460-4960-aa17-3900f3100aac"
      },
      "source": [
        "# Creemos un diccionario simple\n",
        "diccionario = {\"key1\":\"value1\", \"key2\":\"value2\"}\n",
        "# Una manera más \"bonita\" de crear diccionarios\n",
        "diccionario = {\n",
        "    \"key1\":\"value1\",\n",
        "    \"key2\":\"value2\"\n",
        "}\n",
        "print(diccionario)\n",
        "# Para agarrar valores\n",
        "print(diccionario['key1'])"
      ],
      "execution_count": null,
      "outputs": [
        {
          "output_type": "stream",
          "text": [
            "{'key1': 'value1', 'key2': 'value2'}\n",
            "value1\n"
          ],
          "name": "stdout"
        }
      ]
    },
    {
      "cell_type": "code",
      "metadata": {
        "id": "B7QJ6SeNNCl9",
        "colab": {
          "base_uri": "https://localhost:8080/",
          "height": 34
        },
        "outputId": "faacaa9d-a766-4813-9c9e-b36464d6a4f7"
      },
      "source": [
        "# Las \"keys\" pueden tener el nombre que ustedes quieran y \n",
        "# los valores pueden ser cualquier objeto que ya vimos antes\n",
        "precios = {\n",
        "    \"manzana\":7,\n",
        "    \"agua\":10.5,\n",
        "    \"takis\": 12,\n",
        "    \"doritos\": 12\n",
        "}\n",
        "\n",
        "# Hey! quiero saber cuánto cuestan los taki taki rumba\n",
        "print()"
      ],
      "execution_count": null,
      "outputs": [
        {
          "output_type": "stream",
          "text": [
            "\n"
          ],
          "name": "stdout"
        }
      ]
    },
    {
      "cell_type": "code",
      "metadata": {
        "id": "0oprXqoUOV8D",
        "colab": {
          "base_uri": "https://localhost:8080/",
          "height": 87
        },
        "outputId": "f59e7eba-a1cf-4240-fb0f-48a6b9fcb153"
      },
      "source": [
        "# Puedes hacer diccionarios de listas y diccionarios de diccionarios!\n",
        "d = {\n",
        "    \"k1\":[1,2,3,4],\n",
        "     \"d1\": {\"k11\":\"Hola\", \"k12\":\"Adios\"}\n",
        "}\n",
        "# Para acceder a esos datos podemos hacer lo siguiente\n",
        "print(d[\"k1\"])\n",
        "print(d[\"d1\"])\n",
        "print(d[\"k1\"][-1])\n",
        "print(d[\"d1\"][\"k12\"])\n",
        "\n",
        "# Esto es útil cuando trabajas con API's y algunas otras cosas."
      ],
      "execution_count": null,
      "outputs": [
        {
          "output_type": "stream",
          "text": [
            "[1, 2, 3, 4]\n",
            "{'k11': 'Hola', 'k12': 'Adios'}\n",
            "4\n",
            "Adios\n"
          ],
          "name": "stdout"
        }
      ]
    },
    {
      "cell_type": "markdown",
      "metadata": {
        "id": "NgRbM1iLRo9C"
      },
      "source": [
        "### Agregar cosas a diccionarios"
      ]
    },
    {
      "cell_type": "code",
      "metadata": {
        "id": "0Qw6eb0DQc0o",
        "colab": {
          "base_uri": "https://localhost:8080/"
        },
        "outputId": "64df1e9e-9974-48d9-ab5d-ba695ba085a7"
      },
      "source": [
        "# Digamos que \n",
        "d = {\"k1\":100, \"k2\":200}\n",
        "print(d)\n",
        "# Queremos meter un k3 que valta 300 por ejemplo:\n",
        "d[\"k3\"] = 300\n",
        "print(d)"
      ],
      "execution_count": null,
      "outputs": [
        {
          "output_type": "stream",
          "text": [
            "{'k1': 100, 'k2': 200}\n",
            "{'k1': 100, 'k2': 200, 'k3': 300}\n"
          ],
          "name": "stdout"
        }
      ]
    },
    {
      "cell_type": "code",
      "metadata": {
        "id": "dTuL-tLrR4Zq",
        "colab": {
          "base_uri": "https://localhost:8080/",
          "height": 34
        },
        "outputId": "36651963-a549-4c8a-ff3e-0e88bae647a9"
      },
      "source": [
        "# También podemos sustiuir lo que ya teníamos\n",
        "d[\"k1\"] = \"hola\"\n",
        "print(d)"
      ],
      "execution_count": null,
      "outputs": [
        {
          "output_type": "stream",
          "text": [
            "{'k1': 'hola', 'k2': 200, 'k3': 300}\n"
          ],
          "name": "stdout"
        }
      ]
    },
    {
      "cell_type": "markdown",
      "metadata": {
        "id": "2Sj0MbrDTmKq"
      },
      "source": [
        "### Métodos especiales para diccionarios"
      ]
    },
    {
      "cell_type": "code",
      "metadata": {
        "id": "a-n0Z42yTYH4"
      },
      "source": [
        "# keys()\n",
        "print()\n",
        "# values()\n",
        "print()\n",
        "# items()\n",
        "print()"
      ],
      "execution_count": null,
      "outputs": []
    },
    {
      "cell_type": "markdown",
      "metadata": {
        "id": "_VFkFFNunZp2"
      },
      "source": [
        "## Conjuntos"
      ]
    },
    {
      "cell_type": "code",
      "metadata": {
        "id": "fHPoFzx0nZHk",
        "colab": {
          "base_uri": "https://localhost:8080/",
          "height": 34
        },
        "outputId": "d80eb77c-4f27-4c8c-f012-76e91515b04d"
      },
      "source": [
        "# Conjunto básico\n",
        "conjunto = {10,12,'a',10,'b','a'}\n",
        "# Elementos únicos\n",
        "print(conjunto)\n",
        "# Podemos ver que se imprime en un orden distinto (normal) y solo se imprimen elementos únicos."
      ],
      "execution_count": null,
      "outputs": [
        {
          "output_type": "stream",
          "text": [
            "{10, 'b', 12, 'a'}\n"
          ],
          "name": "stdout"
        }
      ]
    },
    {
      "cell_type": "code",
      "metadata": {
        "id": "aVkO70DFpYsw",
        "colab": {
          "base_uri": "https://localhost:8080/",
          "height": 34
        },
        "outputId": "06e96e33-6a9d-4b91-851c-8cf0ebd40e2c"
      },
      "source": [
        "# Ejemplo: (Edades de alumnos)\n",
        "edades = [12, 12, 8, 6, 9, 8]\n",
        "edades = set(edades)\n",
        "print(edades)\n",
        "# Lo puedo volver a convertir a lista y luego ordenarlo\n",
        "# ¡Lo van a usar para un problema más adelante!"
      ],
      "execution_count": null,
      "outputs": [
        {
          "output_type": "stream",
          "text": [
            "{8, 9, 12, 6}\n"
          ],
          "name": "stdout"
        }
      ]
    },
    {
      "cell_type": "markdown",
      "metadata": {
        "id": "dLRQV29V7gGB"
      },
      "source": [
        "# Control de flujo"
      ]
    },
    {
      "cell_type": "markdown",
      "metadata": {
        "id": "XgYISxzHe7Pt"
      },
      "source": [
        "## Introducción\n",
        "\n",
        "Una estructura de control de flujo es un bloque de código que permite agrupar varias instrucciones de manera controlada.\n",
        "Podemos ver esto como si nuestro código fuera agua que fluye en una tubería. Pero a veces necesitamos un punto de control en la tubería, algo que separe el flujo en dos ramas si el flujo es muy grande, o algo que se abra cuando se llegue a una cierta presión, etc. \n",
        "Estas estructuras nos sirven para que nuestro código no sea una línea recta, si no que tenga muchas más funcionalidades.\n",
        " Hablaremos principalmente sobre dos:\n",
        "* Estructuras de control condicionales\n",
        "* Estructuras de control iterativas\n",
        "\n",
        "Pero antes de ver esto, necesitamos ver algunos conceptos anteriores"
      ]
    },
    {
      "cell_type": "markdown",
      "metadata": {
        "id": "ahkeUMWkgWPC"
      },
      "source": [
        "## Indentación\n",
        "\n",
        "Una característica cool de Python es que no trabaja con {}, para aquellos familiarizados con otros lenguajes de programación, usualmente el \"contenido\" de un ciclo o de un condicional se marca con {}, python lo hace con el uso de dos puntos (:) e indentación (sangría o espacios), veamos el siguiente ejemplo\n",
        "\n"
      ]
    },
    {
      "cell_type": "code",
      "metadata": {
        "id": "xQLjt1Y8jdW1"
      },
      "source": [
        "i=1\n",
        "if(i>3):\n",
        "    pass    \n"
      ],
      "execution_count": null,
      "outputs": []
    },
    {
      "cell_type": "markdown",
      "metadata": {
        "id": "0HgeEBRwj6GI"
      },
      "source": [
        "Podemos observar que la estructura es de la siguiente manera:\n",
        "\n",
        "    inicio de la estructura de control:\n",
        "      expresiones"
      ]
    },
    {
      "cell_type": "markdown",
      "metadata": {
        "id": "ilasUHK3kfRY"
      },
      "source": [
        "Estas indentaciones se pueden hacer con tabulador, o con espacios (aunque por costumbre se suele usar tabulador, pero cada quien tiene su hábito)"
      ]
    },
    {
      "cell_type": "markdown",
      "metadata": {
        "id": "ifxl2Ao3jVlk"
      },
      "source": [
        "\n",
        "![meme](https://pbs.twimg.com/media/EZn_E4tWoAEcnEC?format=png&name=small)\n",
        "\n",
        "\n"
      ]
    },
    {
      "cell_type": "markdown",
      "metadata": {
        "id": "kfaTvb1tois6"
      },
      "source": [
        "## Operadores relacionales\n",
        "\n",
        "> [...] Los condicionales nos permiten comprobar condiciones y hacer que nuestro programa se comporte de una forma u otra, que ejecute un fragmento de código u otro, dependiendo de esta condición [...]\n",
        "\n",
        "Del libro Python para todos.\n",
        "\n",
        "Los **condicionales** nos permiten evaluar si una o más condiciones se cumplen, y en base a eso, decir que acción se ejecutará. Esta evaluación es una operación booleana, es decir, solo arrojará **True** o **False**. \n",
        "\n",
        "Hagamos un ejemplo sobre todos los operadores relacionales que existen"
      ]
    },
    {
      "cell_type": "markdown",
      "metadata": {
        "id": "kaaYQG41pZyL"
      },
      "source": [
        "Operador igual que \n",
        "\n",
        "\\=="
      ]
    },
    {
      "cell_type": "code",
      "metadata": {
        "colab": {
          "base_uri": "https://localhost:8080/",
          "height": 34
        },
        "id": "JYxfK--4pWXb",
        "outputId": "15e942b0-5fc4-4976-aa12-0f1323689edf"
      },
      "source": [
        "1 == 1"
      ],
      "execution_count": null,
      "outputs": [
        {
          "output_type": "execute_result",
          "data": {
            "text/plain": [
              "True"
            ]
          },
          "metadata": {
            "tags": []
          },
          "execution_count": 5
        }
      ]
    },
    {
      "cell_type": "markdown",
      "metadata": {
        "id": "D3JX0Hjxpfzi"
      },
      "source": [
        "Operador distinto que \\\\\n",
        "\\!="
      ]
    },
    {
      "cell_type": "code",
      "metadata": {
        "colab": {
          "base_uri": "https://localhost:8080/",
          "height": 34
        },
        "id": "xJkCpuSFpnl7",
        "outputId": "e71a1696-91dc-458f-a3af-7f51517110da"
      },
      "source": [
        "4 != 3"
      ],
      "execution_count": null,
      "outputs": [
        {
          "output_type": "execute_result",
          "data": {
            "text/plain": [
              "True"
            ]
          },
          "metadata": {
            "tags": []
          },
          "execution_count": 7
        }
      ]
    },
    {
      "cell_type": "markdown",
      "metadata": {
        "id": "ZUb41EqwpstS"
      },
      "source": [
        "Operador menor que\n",
        "\n",
        "\\<"
      ]
    },
    {
      "cell_type": "code",
      "metadata": {
        "colab": {
          "base_uri": "https://localhost:8080/",
          "height": 34
        },
        "id": "0yazqW-5qL9L",
        "outputId": "6d524e88-61ac-43b0-84d1-52ed0eee211e"
      },
      "source": [
        "3 < 4"
      ],
      "execution_count": null,
      "outputs": [
        {
          "output_type": "execute_result",
          "data": {
            "text/plain": [
              "True"
            ]
          },
          "metadata": {
            "tags": []
          },
          "execution_count": 8
        }
      ]
    },
    {
      "cell_type": "markdown",
      "metadata": {
        "id": "dLknqnLXqQyt"
      },
      "source": [
        "Operador mayor que \\\n",
        "\n",
        "\\>"
      ]
    },
    {
      "cell_type": "code",
      "metadata": {
        "colab": {
          "base_uri": "https://localhost:8080/",
          "height": 34
        },
        "id": "6ytMW_IQqUYV",
        "outputId": "83a6035e-9dbe-482a-c8ff-ffbe14dda39c"
      },
      "source": [
        "3 > 5"
      ],
      "execution_count": null,
      "outputs": [
        {
          "output_type": "execute_result",
          "data": {
            "text/plain": [
              "False"
            ]
          },
          "metadata": {
            "tags": []
          },
          "execution_count": 9
        }
      ]
    },
    {
      "cell_type": "markdown",
      "metadata": {
        "id": "D049tazxqXvS"
      },
      "source": [
        "Operador menor o igual que \\\n",
        "\\<="
      ]
    },
    {
      "cell_type": "code",
      "metadata": {
        "colab": {
          "base_uri": "https://localhost:8080/",
          "height": 34
        },
        "id": "YqDaxaIfqdWP",
        "outputId": "67f6eb37-7cf4-4376-a32c-c0f24c3e9b55"
      },
      "source": [
        "i=input(\"cuántos grados tiene el motor?\")\n",
        "int(i) < 150"
      ],
      "execution_count": null,
      "outputs": [
        {
          "output_type": "stream",
          "text": [
            "cuántos grados tiene el motor? 150\n"
          ],
          "name": "stdin"
        },
        {
          "output_type": "execute_result",
          "data": {
            "text/plain": [
              "False"
            ]
          },
          "metadata": {
            "tags": []
          },
          "execution_count": 15
        }
      ]
    },
    {
      "cell_type": "markdown",
      "metadata": {
        "id": "NMnqtPioqkIQ"
      },
      "source": [
        "Operador mayor o igual que\n",
        "\n",
        "\n",
        "\\>="
      ]
    },
    {
      "cell_type": "code",
      "metadata": {
        "colab": {
          "base_uri": "https://localhost:8080/",
          "height": 34
        },
        "id": "l7FLZbgbqoWX",
        "outputId": "66e876e2-c456-42c1-ef21-4911a54a10b8"
      },
      "source": [
        ""
      ],
      "execution_count": null,
      "outputs": [
        {
          "output_type": "execute_result",
          "data": {
            "text/plain": [
              "True"
            ]
          },
          "metadata": {
            "tags": []
          },
          "execution_count": 8
        }
      ]
    },
    {
      "cell_type": "markdown",
      "metadata": {
        "id": "nsi3aJEkkyM7"
      },
      "source": [
        "## Tabla de verdades\n",
        "\n",
        "Ahora, esto último nos sirve para evaluar una sola decisión. ¿Pero qué pasa cuando queremos evaluar más de una a la vez? Aquí entran los operadores lógicos, que trabajan con dos valores booleanos y te regresan otro valor booleano. Veamos un ejemplo con dos operadores muy usados, AND y OR (hay más, pero para el ejemplo solo usaremos estos)"
      ]
    },
    {
      "cell_type": "markdown",
      "metadata": {
        "id": "dvfsLNj3suuf"
      },
      "source": [
        "### operador lógico AND\n",
        "\n",
        "Este operador solo devuelve un **True** cuando ambos valores de entrada son verdaderos. También se puede ver como el operador lógico de multiplicación, puesto que el único resultado que da 1 es 1x1\n",
        "\n",
        "![AND](https://aristoteles2pc.files.wordpress.com/2011/03/tabla-de-verdad.png?w=225&h=300)"
      ]
    },
    {
      "cell_type": "code",
      "metadata": {
        "colab": {
          "base_uri": "https://localhost:8080/",
          "height": 34
        },
        "id": "dmzGH-aytgEj",
        "outputId": "630f7582-f7cb-4b33-9ce8-fa7849bbe6d0"
      },
      "source": [
        "color = input(\"De qué color es el coche?\")\n",
        "asequible = input(\"te puedes permitir el coche?\")\n",
        "color == 'Azul' and asequible == 'Si'"
      ],
      "execution_count": null,
      "outputs": [
        {
          "output_type": "stream",
          "text": [
            "De qué color es el coche? Rojo\n",
            "te puedes permitir el coche? Si\n"
          ],
          "name": "stdin"
        },
        {
          "output_type": "execute_result",
          "data": {
            "text/plain": [
              "False"
            ]
          },
          "metadata": {
            "tags": []
          },
          "execution_count": 17
        }
      ]
    },
    {
      "cell_type": "markdown",
      "metadata": {
        "id": "4p62Jt0DnsvA"
      },
      "source": [
        "### Operador lógico OR\n",
        "\n",
        "Este operador devuelve un **True** cuando cualquier valor es 1. Se puede ver como el operador lógico de suma, puesto que siempre y cuando haya al menos un 1, no será 0.\n",
        "\n",
        "![or](https://aristoteles2pc.files.wordpress.com/2011/03/or1.png)"
      ]
    },
    {
      "cell_type": "code",
      "metadata": {
        "colab": {
          "base_uri": "https://localhost:8080/",
          "height": 34
        },
        "id": "7m8erL9AtlfT",
        "outputId": "2c82d7b4-b5be-4c89-f19b-23f0b85f2c0e"
      },
      "source": [
        "cheetos = input(\"Hay cheetos?\")\n",
        "doritos = input(\"Hay doritos?\")\n",
        "cheetos == 'Si' or doritos == 'Si'"
      ],
      "execution_count": null,
      "outputs": [
        {
          "output_type": "stream",
          "text": [
            "Hay cheetos? Si\n",
            "Hay doritos? Si\n"
          ],
          "name": "stdin"
        },
        {
          "output_type": "execute_result",
          "data": {
            "text/plain": [
              "True"
            ]
          },
          "metadata": {
            "tags": []
          },
          "execution_count": 20
        }
      ]
    },
    {
      "cell_type": "markdown",
      "metadata": {
        "id": "6iA07L7WtwQk"
      },
      "source": [
        "## Estructuras de flujo condicionales\n",
        "\n",
        "Ahora, para poder realizar operaciones con estos operadores/condicionales, haremos uso de 3 palabras reservadas que tiene python:\n",
        "* `if` (si)\n",
        "* `else` (si no, si)\n",
        "* `elif` (si no) \\\n",
        "Se entenderá mejor con unos ejemplos"
      ]
    },
    {
      "cell_type": "code",
      "metadata": {
        "colab": {
          "base_uri": "https://localhost:8080/",
          "height": 34
        },
        "id": "EIg3tG2nu5SK",
        "outputId": "c7f0e2b5-b189-4bab-ca68-b37be6a10ee1"
      },
      "source": [
        "cielo=input('Está despejado el cielo?')\n",
        "if (cielo=='Si'):\n",
        "    print('Ve armando el telescopio')\n",
        "elif (cielo=='Medio'):\n",
        "    print('Esperar un poco más')\n",
        "else:\n",
        "    print('Saco el lolsito con missael')"
      ],
      "execution_count": null,
      "outputs": [
        {
          "output_type": "stream",
          "text": [
            "Está despejado el cielo? Medio\n"
          ],
          "name": "stdin"
        },
        {
          "output_type": "stream",
          "text": [
            "Esperar un poco más\n"
          ],
          "name": "stdout"
        }
      ]
    },
    {
      "cell_type": "code",
      "metadata": {
        "id": "ZQZ1qW0N7mkk",
        "outputId": "33a969b3-66d9-4193-fae3-9ce8693ccb21"
      },
      "source": [
        "pandemia=input('Como está la situación del covid?')\n",
        "if (pandemia=='fea'):\n",
        "    print('Ni se te ocurra salir')\n",
        "elif (pandemia=='Medio fea'):\n",
        "    print('Con susana distancia')\n",
        "else:\n",
        "    print('Puedes ir a verla')"
      ],
      "execution_count": null,
      "outputs": [
        {
          "output_type": "stream",
          "text": [
            "Como está la situación del covid? Chida\n"
          ],
          "name": "stdin"
        },
        {
          "output_type": "stream",
          "text": [
            "Puedes ir a verla\n"
          ],
          "name": "stdout"
        }
      ]
    },
    {
      "cell_type": "markdown",
      "metadata": {
        "id": "jSOphf9KvCYn"
      },
      "source": [
        "El código de arriba se puede ver como, i es igual a 3, pero si i es mayor que 2, entonces i ahora será 2. Como es cierto (**True**), pasamos a realizar las operaciones que nos indica (asignar el valor de 2 a i)"
      ]
    },
    {
      "cell_type": "code",
      "metadata": {
        "colab": {
          "base_uri": "https://localhost:8080/",
          "height": 34
        },
        "id": "ayJ-_ZGcvU5i",
        "outputId": "b9a7df46-f887-4031-f48f-627d7664ed28"
      },
      "source": [
        "if i == 3:\n",
        "  i = 2\n",
        "else:\n",
        "  i= 3\n",
        "i"
      ],
      "execution_count": null,
      "outputs": [
        {
          "output_type": "execute_result",
          "data": {
            "text/plain": [
              "2"
            ]
          },
          "metadata": {
            "tags": []
          },
          "execution_count": 19
        }
      ]
    },
    {
      "cell_type": "markdown",
      "metadata": {
        "id": "lAuqNRntxjgM"
      },
      "source": [
        "Aquí revisa si i es igual a 3, si es verdadero, ahora i será igual a 2. Pero si i no es igual a 3, hace que i sea igual a 3"
      ]
    },
    {
      "cell_type": "code",
      "metadata": {
        "colab": {
          "base_uri": "https://localhost:8080/",
          "height": 34
        },
        "id": "HBFrALf2vc4E",
        "outputId": "e01f8f8e-d2c7-4e8d-d9cd-2a4fc3ec0b65"
      },
      "source": [
        "if i == 3:\n",
        "  i = 2\n",
        "elif i == 2:\n",
        "  i = 4\n",
        "i"
      ],
      "execution_count": null,
      "outputs": [
        {
          "output_type": "execute_result",
          "data": {
            "text/plain": [
              "4"
            ]
          },
          "metadata": {
            "tags": []
          },
          "execution_count": 22
        }
      ]
    },
    {
      "cell_type": "markdown",
      "metadata": {
        "id": "v_B_14tZx4Rz"
      },
      "source": [
        "\n",
        "También, se puede meter un if dentro de otro if"
      ]
    },
    {
      "cell_type": "code",
      "metadata": {
        "colab": {
          "base_uri": "https://localhost:8080/",
          "height": 34
        },
        "id": "zD1bK2X2yKpX",
        "outputId": "af6a6f95-e509-43df-9b01-b42bb7257f70"
      },
      "source": [
        "if 3 < 5:\n",
        "  if 3 > 1:\n",
        "    print(\"Asumecha!\")"
      ],
      "execution_count": null,
      "outputs": [
        {
          "output_type": "stream",
          "text": [
            "Asumecha!\n"
          ],
          "name": "stdout"
        }
      ]
    },
    {
      "cell_type": "markdown",
      "metadata": {
        "id": "_0iG29sDyFp6"
      },
      "source": [
        "Les recomiendo mucho jugar con los condicionales para que vean lo que pueden hacer."
      ]
    },
    {
      "cell_type": "markdown",
      "metadata": {
        "id": "l-rJt2YMyVxv"
      },
      "source": [
        "## Estructuras de flujo iterativas\n",
        "\n",
        "Aparte de tener condicionales, también tenemos este tipo de estructuras de flujo, que nos permiten ejecutar un mismo código de manera repetida mientras se cumpla una condición. Existen dos estructuras cíclicas en python:\n",
        "* `for`\n",
        "* `while`\n",
        "\n"
      ]
    },
    {
      "cell_type": "markdown",
      "metadata": {
        "id": "nKrhfTotzPA0"
      },
      "source": [
        "### Ciclo for\n",
        "\n",
        "Este ciclo nos permite iterar operaciones. Para entenderlo mejor, vamos a hacer algunos ejemplos. Digamos que tenemos una lista de personas, y queremos saludar a todos los de la lista, pero es cansado escribir todos los prints, entonces lo podemos hacer así"
      ]
    },
    {
      "cell_type": "code",
      "metadata": {
        "colab": {
          "base_uri": "https://localhost:8080/",
          "height": 119
        },
        "id": "KL5NJyJdzvsi",
        "outputId": "9e04cbb0-21f4-46ac-a92f-75a2bb44504e"
      },
      "source": [
        "lista_pokemon=['Sceptile','Mightyena','Flygon','Salamance','Charizard','Mewtwo']\n",
        "for pokemon in lista_pokemon:\n",
        "    print(f\"Hola {pokemon}!\")"
      ],
      "execution_count": null,
      "outputs": [
        {
          "output_type": "stream",
          "text": [
            "Hola Sceptile!\n",
            "Hola Mightyena!\n",
            "Hola Flygon!\n",
            "Hola Salamance!\n",
            "Hola Charizard!\n",
            "Hola Mewtwo!\n"
          ],
          "name": "stdout"
        }
      ]
    },
    {
      "cell_type": "markdown",
      "metadata": {
        "id": "npxMcqfv0SQo"
      },
      "source": [
        "También podemos hacerlo con numeros, digamos que queremos imprimir solo los pares del 50 al 100"
      ]
    },
    {
      "cell_type": "code",
      "metadata": {
        "colab": {
          "base_uri": "https://localhost:8080/",
          "height": 867
        },
        "id": "eeDap5BO0A3O",
        "outputId": "1656c0d2-cdd0-4328-b4f5-10e9e62b1177"
      },
      "source": [
        "i=0\n",
        "for numero in range(i,101):\n",
        "    if(numero%3==0):\n",
        "        print(f\"El numero {numero} es multiplo de 3\")"
      ],
      "execution_count": null,
      "outputs": [
        {
          "output_type": "stream",
          "text": [
            "El numero 0 es multiplo de 3\n",
            "El numero 3 es multiplo de 3\n",
            "El numero 6 es multiplo de 3\n",
            "El numero 9 es multiplo de 3\n",
            "El numero 12 es multiplo de 3\n",
            "El numero 15 es multiplo de 3\n",
            "El numero 18 es multiplo de 3\n",
            "El numero 21 es multiplo de 3\n",
            "El numero 24 es multiplo de 3\n",
            "El numero 27 es multiplo de 3\n",
            "El numero 30 es multiplo de 3\n",
            "El numero 33 es multiplo de 3\n",
            "El numero 36 es multiplo de 3\n",
            "El numero 39 es multiplo de 3\n",
            "El numero 42 es multiplo de 3\n",
            "El numero 45 es multiplo de 3\n",
            "El numero 48 es multiplo de 3\n",
            "El numero 51 es multiplo de 3\n",
            "El numero 54 es multiplo de 3\n",
            "El numero 57 es multiplo de 3\n",
            "El numero 60 es multiplo de 3\n",
            "El numero 63 es multiplo de 3\n",
            "El numero 66 es multiplo de 3\n",
            "El numero 69 es multiplo de 3\n",
            "El numero 72 es multiplo de 3\n",
            "El numero 75 es multiplo de 3\n",
            "El numero 78 es multiplo de 3\n",
            "El numero 81 es multiplo de 3\n",
            "El numero 84 es multiplo de 3\n",
            "El numero 87 es multiplo de 3\n",
            "El numero 90 es multiplo de 3\n",
            "El numero 93 es multiplo de 3\n",
            "El numero 96 es multiplo de 3\n",
            "El numero 99 es multiplo de 3\n"
          ],
          "name": "stdout"
        }
      ]
    },
    {
      "cell_type": "markdown",
      "metadata": {
        "id": "UDyc9xlN1EfQ"
      },
      "source": [
        "### Ciclo while\n",
        "\n",
        "Este ciclo siempre se ejecutará mientras se cumpla su condición asociada, veamoslo con un ejemplo."
      ]
    },
    {
      "cell_type": "markdown",
      "metadata": {
        "id": "xdUecCEg1MbW"
      },
      "source": [
        "Digamos que quiero comprar dulces, pero para eso necesito dinero, puesto que cada dulce cuesta 5 pesos. Pero digamos que solo compraré dulces mientras tenga más de 50 pesos. entonces:"
      ]
    },
    {
      "cell_type": "code",
      "metadata": {
        "colab": {
          "base_uri": "https://localhost:8080/",
          "height": 170
        },
        "id": "M6XHPJ8i1Lvu",
        "outputId": "f8ffa43d-893e-4329-c2c8-fd9e7b655d41"
      },
      "source": [
        "dinero= 200\n",
        "i=0\n",
        "while(dinero>50):\n",
        "    dinero=dinero-12\n",
        "    print(f\"Te compraste un arizona de frambuesa y te quedan {dinero} pesos, chale\")\n",
        "    i+=1\n",
        "print(f\"Al final te compraste {i} arizonas y gastaste en total {i*12} pesos\")"
      ],
      "execution_count": null,
      "outputs": [
        {
          "output_type": "stream",
          "text": [
            "Te compraste un arizona de frambuesa y te quedan 188 pesos, chale\n",
            "Te compraste un arizona de frambuesa y te quedan 176 pesos, chale\n",
            "Te compraste un arizona de frambuesa y te quedan 164 pesos, chale\n",
            "Te compraste un arizona de frambuesa y te quedan 152 pesos, chale\n",
            "Te compraste un arizona de frambuesa y te quedan 140 pesos, chale\n",
            "Te compraste un arizona de frambuesa y te quedan 128 pesos, chale\n",
            "Te compraste un arizona de frambuesa y te quedan 116 pesos, chale\n",
            "Te compraste un arizona de frambuesa y te quedan 104 pesos, chale\n",
            "Te compraste un arizona de frambuesa y te quedan 92 pesos, chale\n",
            "Te compraste un arizona de frambuesa y te quedan 80 pesos, chale\n",
            "Te compraste un arizona de frambuesa y te quedan 68 pesos, chale\n",
            "Te compraste un arizona de frambuesa y te quedan 56 pesos, chale\n",
            "Te compraste un arizona de frambuesa y te quedan 44 pesos, chale\n",
            "Al final te compraste 13 arizonas y gastaste en total 156 pesos\n"
          ],
          "name": "stdout"
        }
      ]
    },
    {
      "cell_type": "code",
      "metadata": {
        "id": "FrfLOGdpNwKA"
      },
      "source": [
        "# List comprehension\n",
        "\n",
        "Python nos permite crear listas en una sola línea por medio de ciclos, y esto nos facilita mucho el trabajo y la legibilidad del código (para cuando su código vaya a ser leido por otras personas)"
      ],
      "execution_count": null,
      "outputs": []
    },
    {
      "cell_type": "code",
      "metadata": {
        "id": "5Dx9svPo7mkl",
        "outputId": "de407772-89ea-4826-8648-58064513063b"
      },
      "source": [
        "texto=input()\n",
        "lista=[int(x) for x in texto.split()]\n"
      ],
      "execution_count": null,
      "outputs": [
        {
          "output_type": "stream",
          "text": [
            " 1 2 3 4 5\n"
          ],
          "name": "stdin"
        }
      ]
    },
    {
      "cell_type": "code",
      "metadata": {
        "id": "MMQqYVnx7mkl",
        "outputId": "566da07f-d868-45fb-e8ed-158628f69c22"
      },
      "source": [
        "triple_lista=[x*3 for x in lista]\n",
        "triple_lista"
      ],
      "execution_count": null,
      "outputs": [
        {
          "output_type": "execute_result",
          "data": {
            "text/plain": [
              "[3, 6, 9, 12, 15]"
            ]
          },
          "metadata": {
            "tags": []
          },
          "execution_count": 53
        }
      ]
    },
    {
      "cell_type": "markdown",
      "metadata": {
        "id": "6ixydDqa75lU"
      },
      "source": [
        "# Funciones\n"
      ]
    },
    {
      "cell_type": "markdown",
      "metadata": {
        "id": "TnN6y1G87_kl"
      },
      "source": [
        "## Funciones en Python\n",
        "###¿Qué son?\n",
        "- Son bloques de código que nos permiten aislar un algoritmo específico (que haga algo específico), para ser llamadas donde nosotros queramos y cuantas veces queramos.\n",
        "\n",
        "###¿Para qué sirven?\n",
        "- Crear código limpio y repetible es la llave para escribir un buen código. ¡Otras personas pueden usar lo que tú haces! \n",
        "- ¡Tú usarás código de otras personas! Con las funciones se hace más sencillo entender el código y sobre todo nos permite acceder a él mucho más rápido.\n",
        "- NO NECESITAS REESCRIBIR CÓDIGO, ÚNICAMENTE LLAMA A TU FUNCIÓN Y LISTO\n",
        "\n",
        "#### ¡Toma en cuenta que si no sabes funciones no sabes programar!\n",
        "Con funciones, tus habilidades y lógica de programación se extienden y serás capaz de resolver problemas cada vez más complejos. Esto claro, combinando todo lo que han aprendido hasta el momento.\n",
        "**Las funciones son el primer paso para entender como usar Python en el mundo real**"
      ]
    },
    {
      "cell_type": "markdown",
      "metadata": {
        "id": "dz2vj7VvfR40"
      },
      "source": [
        "### Funciones básicas"
      ]
    },
    {
      "cell_type": "code",
      "metadata": {
        "id": "dPbx8YIKfOmf"
      },
      "source": [
        "# Esta función imprime Python Rocks\n",
        "def hola():\n",
        "  print(\"Python Rocks!\")"
      ],
      "execution_count": null,
      "outputs": []
    },
    {
      "cell_type": "code",
      "metadata": {
        "id": "JlfNYjGnf5KZ"
      },
      "source": [
        "# Esta función imprime el resultado de 1+2\n",
        "def uno_plus_dos():\n",
        "  print(1+2)"
      ],
      "execution_count": null,
      "outputs": []
    },
    {
      "cell_type": "code",
      "metadata": {
        "id": "d8scl1wJgLSm",
        "colab": {
          "base_uri": "https://localhost:8080/",
          "height": 34
        },
        "outputId": "88c6bfa0-b958-4375-f516-d9c4aebbe64e"
      },
      "source": [
        "hola()"
      ],
      "execution_count": null,
      "outputs": [
        {
          "output_type": "stream",
          "text": [
            "Python Rocks!\n"
          ],
          "name": "stdout"
        }
      ]
    },
    {
      "cell_type": "code",
      "metadata": {
        "id": "lNE19CH0gM29",
        "colab": {
          "base_uri": "https://localhost:8080/",
          "height": 34
        },
        "outputId": "11287424-c980-438f-8d4d-eb5f8809f2da"
      },
      "source": [
        "uno_plus_dos()"
      ],
      "execution_count": null,
      "outputs": [
        {
          "output_type": "stream",
          "text": [
            "3\n"
          ],
          "name": "stdout"
        }
      ]
    },
    {
      "cell_type": "markdown",
      "metadata": {
        "id": "PSW9Xy4TmvIC"
      },
      "source": [
        "### Argumentos"
      ]
    },
    {
      "cell_type": "code",
      "metadata": {
        "id": "_vJanb7zmxHT"
      },
      "source": [
        "# Esta función me imprime el cuadrado de la suma de dos números:\n",
        "def siete_porciento(n1, n2):\n",
        "  print((n1 + n2)*0.07)"
      ],
      "execution_count": null,
      "outputs": []
    },
    {
      "cell_type": "code",
      "metadata": {
        "id": "3CL2sZ3XpWw_",
        "colab": {
          "base_uri": "https://localhost:8080/",
          "height": 34
        },
        "outputId": "5611fc72-a166-4611-ae7a-65fa6861faa1"
      },
      "source": [
        "siete_porciento(1,6)"
      ],
      "execution_count": null,
      "outputs": [
        {
          "output_type": "stream",
          "text": [
            "0.49000000000000005\n"
          ],
          "name": "stdout"
        }
      ]
    },
    {
      "cell_type": "code",
      "metadata": {
        "id": "tg5Hrcbopd0M"
      },
      "source": [
        "# Argumentos por default, con la misma función de arriba\n",
        "def siete_porciento(n1,n2=0):\n",
        "  print((n1 + n2)*0.07)"
      ],
      "execution_count": null,
      "outputs": []
    },
    {
      "cell_type": "code",
      "metadata": {
        "id": "uRviubTWpySD",
        "colab": {
          "base_uri": "https://localhost:8080/",
          "height": 34
        },
        "outputId": "591d3225-c9a1-4620-83be-e0f2ddd9d85e"
      },
      "source": [
        "siete_porciento(7)"
      ],
      "execution_count": null,
      "outputs": [
        {
          "output_type": "stream",
          "text": [
            "0.49000000000000005\n"
          ],
          "name": "stdout"
        }
      ]
    },
    {
      "cell_type": "markdown",
      "metadata": {
        "id": "SsgHHnyMaGg3"
      },
      "source": [
        "## Return"
      ]
    },
    {
      "cell_type": "code",
      "metadata": {
        "id": "_-AVT03MHKFR"
      },
      "source": [
        "def mitad_suma(numero1, numero2=0):\n",
        "  # Regresa la mitad de la suma de dos números\n",
        "  suma = numero1 + numero2\n",
        "  mitad = suma / 2\n",
        "\n",
        "  return mitad"
      ],
      "execution_count": null,
      "outputs": []
    },
    {
      "cell_type": "code",
      "metadata": {
        "id": "O8yfStDBVl-c"
      },
      "source": [
        "caso1 = mitad_suma(1,2)\n",
        "caso2 = mitad_suma(1)"
      ],
      "execution_count": null,
      "outputs": []
    },
    {
      "cell_type": "code",
      "metadata": {
        "id": "1PJ91j1sVoXN",
        "colab": {
          "base_uri": "https://localhost:8080/",
          "height": 52
        },
        "outputId": "da5f488b-1f2b-4253-8b0b-59e9f74c84fc"
      },
      "source": [
        "print(\"La mitad de la suma de 1 y 2 es: \" + str(caso1))\n",
        "print(\"La mitad de 1: \" + str(caso2))"
      ],
      "execution_count": null,
      "outputs": [
        {
          "output_type": "stream",
          "text": [
            "La mitad de la suma de 1 y 2 es: 1.5\n",
            "La mitad de 1: 0.5\n"
          ],
          "name": "stdout"
        }
      ]
    },
    {
      "cell_type": "markdown",
      "metadata": {
        "id": "QuLQpdkjaLh_"
      },
      "source": [
        "## Docstring"
      ]
    },
    {
      "cell_type": "code",
      "metadata": {
        "id": "YjX3i7hJaO7I"
      },
      "source": [
        "def buscaDivisores(n):\n",
        "    \"\"\"\n",
        "    Descripción: Dado un número n, regresará el número de divisores. \n",
        "    \"\"\"\n",
        "    i = 2\n",
        "    respuesta = 1\n",
        "    while n != 1:\n",
        "        alpha = 1\n",
        "        \n",
        "        while n % i == 0:\n",
        "            alpha += 1\n",
        "            n /= i\n",
        "        \n",
        "        respuesta = respuesta * alpha\n",
        "        i +=1\n",
        "    return respuesta"
      ],
      "execution_count": null,
      "outputs": []
    },
    {
      "cell_type": "code",
      "metadata": {
        "id": "oJLD_k__eChn",
        "colab": {
          "base_uri": "https://localhost:8080/",
          "height": 52
        },
        "outputId": "f89acf9c-0eae-42d7-d9ac-5c7a223a83f5"
      },
      "source": [
        "print(buscaDivisores(3000))\n",
        "print(buscaDivisores(70))"
      ],
      "execution_count": null,
      "outputs": [
        {
          "output_type": "stream",
          "text": [
            "32\n",
            "8\n"
          ],
          "name": "stdout"
        }
      ]
    },
    {
      "cell_type": "code",
      "metadata": {
        "id": "nWPjuM1NeFqA",
        "colab": {
          "base_uri": "https://localhost:8080/",
          "height": 105
        },
        "outputId": "df8517f8-a00a-4dd4-b13c-0d5c0f092751"
      },
      "source": [
        "help(buscaDivisores)"
      ],
      "execution_count": null,
      "outputs": [
        {
          "output_type": "stream",
          "text": [
            "Help on function buscaDivisores in module __main__:\n",
            "\n",
            "buscaDivisores(n)\n",
            "    Descripción: Dado un número n, regresará el número de divisores.\n",
            "\n"
          ],
          "name": "stdout"
        }
      ]
    },
    {
      "cell_type": "code",
      "metadata": {
        "id": "7AoP90GBTfhu",
        "colab": {
          "base_uri": "https://localhost:8080/",
          "height": 1000
        },
        "outputId": "138384e9-91ce-413d-95eb-b6651ae3373d"
      },
      "source": [
        "# Por ejemplo, hagamos una función que sume todos los elementos de una lista.\n",
        "lista = [1,2,3,4,5,6,7,8,9,10]\n",
        "# Ustedes normalmente lo harían así: (Sí, puedes meter listas a tus funciones, realmente puedes meter lo que quieras)\n",
        "def suma_lista(lista):\n",
        "  suma = 0\n",
        "  for numero in lista:\n",
        "    suma += suma\n",
        "\n",
        "  return suma\n",
        "# Pero realmente podemos implementar código que hizo otra persona\n",
        "suma = sum(lista)\n",
        "# Y para asegurarnos de que sí hace lo que queremos mandamos a llamar su help()\n",
        "help(suma)"
      ],
      "execution_count": null,
      "outputs": [
        {
          "output_type": "stream",
          "text": [
            "Help on int object:\n",
            "\n",
            "class int(object)\n",
            " |  int(x=0) -> integer\n",
            " |  int(x, base=10) -> integer\n",
            " |  \n",
            " |  Convert a number or string to an integer, or return 0 if no arguments\n",
            " |  are given.  If x is a number, return x.__int__().  For floating point\n",
            " |  numbers, this truncates towards zero.\n",
            " |  \n",
            " |  If x is not a number or if base is given, then x must be a string,\n",
            " |  bytes, or bytearray instance representing an integer literal in the\n",
            " |  given base.  The literal can be preceded by '+' or '-' and be surrounded\n",
            " |  by whitespace.  The base defaults to 10.  Valid bases are 0 and 2-36.\n",
            " |  Base 0 means to interpret the base from the string as an integer literal.\n",
            " |  >>> int('0b100', base=0)\n",
            " |  4\n",
            " |  \n",
            " |  Methods defined here:\n",
            " |  \n",
            " |  __abs__(self, /)\n",
            " |      abs(self)\n",
            " |  \n",
            " |  __add__(self, value, /)\n",
            " |      Return self+value.\n",
            " |  \n",
            " |  __and__(self, value, /)\n",
            " |      Return self&value.\n",
            " |  \n",
            " |  __bool__(self, /)\n",
            " |      self != 0\n",
            " |  \n",
            " |  __ceil__(...)\n",
            " |      Ceiling of an Integral returns itself.\n",
            " |  \n",
            " |  __divmod__(self, value, /)\n",
            " |      Return divmod(self, value).\n",
            " |  \n",
            " |  __eq__(self, value, /)\n",
            " |      Return self==value.\n",
            " |  \n",
            " |  __float__(self, /)\n",
            " |      float(self)\n",
            " |  \n",
            " |  __floor__(...)\n",
            " |      Flooring an Integral returns itself.\n",
            " |  \n",
            " |  __floordiv__(self, value, /)\n",
            " |      Return self//value.\n",
            " |  \n",
            " |  __format__(...)\n",
            " |      default object formatter\n",
            " |  \n",
            " |  __ge__(self, value, /)\n",
            " |      Return self>=value.\n",
            " |  \n",
            " |  __getattribute__(self, name, /)\n",
            " |      Return getattr(self, name).\n",
            " |  \n",
            " |  __getnewargs__(...)\n",
            " |  \n",
            " |  __gt__(self, value, /)\n",
            " |      Return self>value.\n",
            " |  \n",
            " |  __hash__(self, /)\n",
            " |      Return hash(self).\n",
            " |  \n",
            " |  __index__(self, /)\n",
            " |      Return self converted to an integer, if self is suitable for use as an index into a list.\n",
            " |  \n",
            " |  __int__(self, /)\n",
            " |      int(self)\n",
            " |  \n",
            " |  __invert__(self, /)\n",
            " |      ~self\n",
            " |  \n",
            " |  __le__(self, value, /)\n",
            " |      Return self<=value.\n",
            " |  \n",
            " |  __lshift__(self, value, /)\n",
            " |      Return self<<value.\n",
            " |  \n",
            " |  __lt__(self, value, /)\n",
            " |      Return self<value.\n",
            " |  \n",
            " |  __mod__(self, value, /)\n",
            " |      Return self%value.\n",
            " |  \n",
            " |  __mul__(self, value, /)\n",
            " |      Return self*value.\n",
            " |  \n",
            " |  __ne__(self, value, /)\n",
            " |      Return self!=value.\n",
            " |  \n",
            " |  __neg__(self, /)\n",
            " |      -self\n",
            " |  \n",
            " |  __new__(*args, **kwargs) from builtins.type\n",
            " |      Create and return a new object.  See help(type) for accurate signature.\n",
            " |  \n",
            " |  __or__(self, value, /)\n",
            " |      Return self|value.\n",
            " |  \n",
            " |  __pos__(self, /)\n",
            " |      +self\n",
            " |  \n",
            " |  __pow__(self, value, mod=None, /)\n",
            " |      Return pow(self, value, mod).\n",
            " |  \n",
            " |  __radd__(self, value, /)\n",
            " |      Return value+self.\n",
            " |  \n",
            " |  __rand__(self, value, /)\n",
            " |      Return value&self.\n",
            " |  \n",
            " |  __rdivmod__(self, value, /)\n",
            " |      Return divmod(value, self).\n",
            " |  \n",
            " |  __repr__(self, /)\n",
            " |      Return repr(self).\n",
            " |  \n",
            " |  __rfloordiv__(self, value, /)\n",
            " |      Return value//self.\n",
            " |  \n",
            " |  __rlshift__(self, value, /)\n",
            " |      Return value<<self.\n",
            " |  \n",
            " |  __rmod__(self, value, /)\n",
            " |      Return value%self.\n",
            " |  \n",
            " |  __rmul__(self, value, /)\n",
            " |      Return value*self.\n",
            " |  \n",
            " |  __ror__(self, value, /)\n",
            " |      Return value|self.\n",
            " |  \n",
            " |  __round__(...)\n",
            " |      Rounding an Integral returns itself.\n",
            " |      Rounding with an ndigits argument also returns an integer.\n",
            " |  \n",
            " |  __rpow__(self, value, mod=None, /)\n",
            " |      Return pow(value, self, mod).\n",
            " |  \n",
            " |  __rrshift__(self, value, /)\n",
            " |      Return value>>self.\n",
            " |  \n",
            " |  __rshift__(self, value, /)\n",
            " |      Return self>>value.\n",
            " |  \n",
            " |  __rsub__(self, value, /)\n",
            " |      Return value-self.\n",
            " |  \n",
            " |  __rtruediv__(self, value, /)\n",
            " |      Return value/self.\n",
            " |  \n",
            " |  __rxor__(self, value, /)\n",
            " |      Return value^self.\n",
            " |  \n",
            " |  __sizeof__(...)\n",
            " |      Returns size in memory, in bytes\n",
            " |  \n",
            " |  __str__(self, /)\n",
            " |      Return str(self).\n",
            " |  \n",
            " |  __sub__(self, value, /)\n",
            " |      Return self-value.\n",
            " |  \n",
            " |  __truediv__(self, value, /)\n",
            " |      Return self/value.\n",
            " |  \n",
            " |  __trunc__(...)\n",
            " |      Truncating an Integral returns itself.\n",
            " |  \n",
            " |  __xor__(self, value, /)\n",
            " |      Return self^value.\n",
            " |  \n",
            " |  bit_length(...)\n",
            " |      int.bit_length() -> int\n",
            " |      \n",
            " |      Number of bits necessary to represent self in binary.\n",
            " |      >>> bin(37)\n",
            " |      '0b100101'\n",
            " |      >>> (37).bit_length()\n",
            " |      6\n",
            " |  \n",
            " |  conjugate(...)\n",
            " |      Returns self, the complex conjugate of any int.\n",
            " |  \n",
            " |  from_bytes(...) from builtins.type\n",
            " |      int.from_bytes(bytes, byteorder, *, signed=False) -> int\n",
            " |      \n",
            " |      Return the integer represented by the given array of bytes.\n",
            " |      \n",
            " |      The bytes argument must be a bytes-like object (e.g. bytes or bytearray).\n",
            " |      \n",
            " |      The byteorder argument determines the byte order used to represent the\n",
            " |      integer.  If byteorder is 'big', the most significant byte is at the\n",
            " |      beginning of the byte array.  If byteorder is 'little', the most\n",
            " |      significant byte is at the end of the byte array.  To request the native\n",
            " |      byte order of the host system, use `sys.byteorder' as the byte order value.\n",
            " |      \n",
            " |      The signed keyword-only argument indicates whether two's complement is\n",
            " |      used to represent the integer.\n",
            " |  \n",
            " |  to_bytes(...)\n",
            " |      int.to_bytes(length, byteorder, *, signed=False) -> bytes\n",
            " |      \n",
            " |      Return an array of bytes representing an integer.\n",
            " |      \n",
            " |      The integer is represented using length bytes.  An OverflowError is\n",
            " |      raised if the integer is not representable with the given number of\n",
            " |      bytes.\n",
            " |      \n",
            " |      The byteorder argument determines the byte order used to represent the\n",
            " |      integer.  If byteorder is 'big', the most significant byte is at the\n",
            " |      beginning of the byte array.  If byteorder is 'little', the most\n",
            " |      significant byte is at the end of the byte array.  To request the native\n",
            " |      byte order of the host system, use `sys.byteorder' as the byte order value.\n",
            " |      \n",
            " |      The signed keyword-only argument determines whether two's complement is\n",
            " |      used to represent the integer.  If signed is False and a negative integer\n",
            " |      is given, an OverflowError is raised.\n",
            " |  \n",
            " |  ----------------------------------------------------------------------\n",
            " |  Data descriptors defined here:\n",
            " |  \n",
            " |  denominator\n",
            " |      the denominator of a rational number in lowest terms\n",
            " |  \n",
            " |  imag\n",
            " |      the imaginary part of a complex number\n",
            " |  \n",
            " |  numerator\n",
            " |      the numerator of a rational number in lowest terms\n",
            " |  \n",
            " |  real\n",
            " |      the real part of a complex number\n",
            "\n"
          ],
          "name": "stdout"
        }
      ]
    },
    {
      "cell_type": "code",
      "metadata": {
        "id": "8JYK9BLdlie6",
        "colab": {
          "base_uri": "https://localhost:8080/",
          "height": 510
        },
        "outputId": "fb534069-148c-4c64-ef53-3447b8e0f058"
      },
      "source": [
        "# Por curiosidad podemos ver también qué hace help.\n",
        "help(help)"
      ],
      "execution_count": null,
      "outputs": [
        {
          "output_type": "stream",
          "text": [
            "Help on _Helper in module _sitebuiltins object:\n",
            "\n",
            "class _Helper(builtins.object)\n",
            " |  Define the builtin 'help'.\n",
            " |  \n",
            " |  This is a wrapper around pydoc.help that provides a helpful message\n",
            " |  when 'help' is typed at the Python interactive prompt.\n",
            " |  \n",
            " |  Calling help() at the Python prompt starts an interactive help session.\n",
            " |  Calling help(thing) prints help for the python object 'thing'.\n",
            " |  \n",
            " |  Methods defined here:\n",
            " |  \n",
            " |  __call__(self, *args, **kwds)\n",
            " |      Call self as a function.\n",
            " |  \n",
            " |  __repr__(self)\n",
            " |      Return repr(self).\n",
            " |  \n",
            " |  ----------------------------------------------------------------------\n",
            " |  Data descriptors defined here:\n",
            " |  \n",
            " |  __dict__\n",
            " |      dictionary for instance variables (if defined)\n",
            " |  \n",
            " |  __weakref__\n",
            " |      list of weak references to the object (if defined)\n",
            "\n"
          ],
          "name": "stdout"
        }
      ]
    },
    {
      "cell_type": "markdown",
      "metadata": {
        "id": "-RV_XBJa-Q1w"
      },
      "source": [
        "## Ejercicios"
      ]
    },
    {
      "cell_type": "markdown",
      "metadata": {
        "id": "8S-__rVyBFUL"
      },
      "source": [
        "### Número primo\n",
        "Realiza una función que dado un número n como parámetro, regresa True si el número es primo, regresa False si no es primo.\n",
        "\n",
        "Nota: Un número primo es aquél número natural que sólo se puede dividir entre 1 y sí mismo, **OJO: EL 1 NO ES PRIMO**.\n",
        "\n",
        "Ejemplo: 73 es un número primo, al igual que 37, también el 29 es un número primo, pero el 1, el 15 y el 21 no son primos.\n"
      ]
    },
    {
      "cell_type": "code",
      "metadata": {
        "id": "JdtjdgCLBeH6"
      },
      "source": [
        ""
      ],
      "execution_count": null,
      "outputs": []
    },
    {
      "cell_type": "markdown",
      "metadata": {
        "id": "CS7xxKnG-hu8"
      },
      "source": [
        "### Suma de primos.\n",
        "Con ayuda de la función anterior, imprime la suma de los números primos del 1 a un número n (**OJO, ESTE NÚMERO n NO TIENE NADA QUE VER CON EL n ANTERIOR**).\n",
        "\n",
        "Ejemplo, la suma de los números primos del 1 al 10 es:\n",
        "2 + 3 + 5 + 7 = 17"
      ]
    },
    {
      "cell_type": "code",
      "metadata": {
        "id": "S7yAMfNg-TGg"
      },
      "source": [
        ""
      ],
      "execution_count": null,
      "outputs": []
    },
    {
      "cell_type": "markdown",
      "metadata": {
        "id": "PnL7fzbMCIGg"
      },
      "source": [
        "### Números Capicua\n",
        "Realiza una función que dado un número entero n dado como parámetro, regrese True si el número es Capicua y regrese False si el número no es Capicua\n",
        "\n",
        "NOTA: Un número capicua es un número que se lee igual de izquierda a derecha que de derecha a izquierda.\n",
        "\n",
        "Ejemplo: 11, 22, 99, 1001, 6996, 7337 son números capicuas, pero 10, 24, 856, 499 no son números capicuas."
      ]
    },
    {
      "cell_type": "markdown",
      "metadata": {
        "id": "iv1ugkeUuafe"
      },
      "source": [
        "## Factores primos\n",
        "Los factores primos de un número, son todos los números primos que pueden dividir a ese número, algunos ejemplos son:\n",
        "Los factores primos de 4 son 2 y el 2 (2 dos veces porque el 4 se puede dividir entre 2 dos veces), los del 6 son 2 y 3. Los del 36 son 2,2,3 y 3, si multiplicas todos los factores primos de un número, te da ese mismo número, (Importante, recuerde que estamos hablando de números primos, no de divisores, no son lo mismo, es decir, un divisor del 36 es el 4, pero el 4 no es primo, en cambio el 2 sí es primo y divide al 36, como puede dividir al 36 dos veces entonces es 2,2):\n",
        "\n",
        "Escribe una función que regrese una lista de los factores primos de un número. En la lista deben aparecer los números ordenados de menor a mayor y deben aparecer las veces que sea posible dividir al número n, por ejemplo:\n",
        "\n",
        "225 -> [3,3,5,5]"
      ]
    },
    {
      "cell_type": "code",
      "metadata": {
        "id": "vIlWzuvuvMPe"
      },
      "source": [
        "def factores_primos(n):\n",
        "  \"\"\"\n",
        "  Description: Dado un número n regresa una lista de los factores primos de un número.\n",
        "  Si el número n se puede dividir varias veces entre un número primo entonces se imprimirá este número de veces.\n",
        "  \"\"\"\n",
        "  \n",
        "  return factores"
      ],
      "execution_count": null,
      "outputs": []
    }
  ]
}